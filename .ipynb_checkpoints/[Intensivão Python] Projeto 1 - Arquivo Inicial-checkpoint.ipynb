{
 "cells": [
  {
   "cell_type": "code",
   "execution_count": 21,
   "id": "c6e431bd",
   "metadata": {},
   "outputs": [
    {
     "ename": "NameError",
     "evalue": "name 'python' is not defined",
     "output_type": "error",
     "traceback": [
      "\u001b[0;31m---------------------------------------------------------------------------\u001b[0m",
      "\u001b[0;31mNameError\u001b[0m                                 Traceback (most recent call last)",
      "Cell \u001b[0;32mIn[21], line 28\u001b[0m\n\u001b[1;32m     26\u001b[0m pyautogui\u001b[38;5;241m.\u001b[39mwrite(\u001b[38;5;124m\"\u001b[39m\u001b[38;5;124mminha senha\u001b[39m\u001b[38;5;124m\"\u001b[39m)\n\u001b[1;32m     27\u001b[0m \u001b[38;5;66;03m#pyautogui.press(\"enter\")\u001b[39;00m\n\u001b[0;32m---> 28\u001b[0m \u001b[43mpython\u001b[49m\u001b[38;5;241m.\u001b[39mclick(x\u001b[38;5;241m=\u001b[39m\u001b[38;5;241m722\u001b[39m, y\u001b[38;5;241m=\u001b[39m\u001b[38;5;241m560\u001b[39m)\n\u001b[1;32m     30\u001b[0m \u001b[38;5;66;03m#Passo 3: Baixar a base de dados\u001b[39;00m\n\u001b[1;32m     31\u001b[0m \u001b[38;5;66;03m#Passo 4: Calcular os indicadores\u001b[39;00m\n\u001b[1;32m     32\u001b[0m \u001b[38;5;66;03m#Passo 5: Enviar e-mail para diretoria/chefe\u001b[39;00m\n",
      "\u001b[0;31mNameError\u001b[0m: name 'python' is not defined"
     ]
    }
   ],
   "source": [
    "import pyautogui\n",
    "import time\n",
    "\n",
    "#pyautogui - biblioteca para automatizar tarefas\n",
    "#Principais comandos:\n",
    "#pyautogui.click -> clicar com mouse\n",
    "#pyautogui.write -> escreve um texto\n",
    "#pyautogui.press -> aperta uma tecla\n",
    "#pyautogui.hotkey -> apertar uma combinação de teclas\n",
    "\n",
    "pyautogui.PAUSE = 1\n",
    "#pausa de 1 segunda antes de executar o próximo comando\n",
    "\n",
    "#Passo 1: Acessar o sistema da empresa\n",
    "pyautogui.hotkey(\"ctrl\", \"t\")\n",
    "pyautogui.write(\"https://pages.hashtagtreinamentos.com/aula1-intensivao-sistema\")\n",
    "pyautogui.press(\"enter\")\n",
    "\n",
    "time.sleep(5)\n",
    "#espera de 5 segundo neste intervalo de códigos\n",
    "\n",
    "#Passo 2: Fazer login no sistema\n",
    "pyautogui.click(x=686, y=402)\n",
    "pyautogui.write(\"meu login\")\n",
    "pyautogui.click(x=693, y=483)\n",
    "pyautogui.write(\"minha senha\")\n",
    "#pyautogui.press(\"enter\")\n",
    "python.click(x=722, y=560)\n",
    "\n",
    "#Passo 3: Baixar a base de dados\n",
    "#Passo 4: Calcular os indicadores\n",
    "#Passo 5: Enviar e-mail para diretoria/chefe"
   ]
  },
  {
   "cell_type": "code",
   "execution_count": 17,
   "id": "d970bdf9",
   "metadata": {},
   "outputs": [
    {
     "name": "stdout",
     "output_type": "stream",
     "text": [
      "Defaulting to user installation because normal site-packages is not writeable\n",
      "Requirement already satisfied: pyautogui in /usr/local/lib/python3.10/dist-packages (0.9.53)\n",
      "Requirement already satisfied: pygetwindow>=0.0.5 in /usr/local/lib/python3.10/dist-packages (from pyautogui) (0.0.9)\n",
      "Requirement already satisfied: pyscreeze>=0.1.21 in /usr/local/lib/python3.10/dist-packages (from pyautogui) (0.1.28)\n",
      "Requirement already satisfied: mouseinfo in /usr/local/lib/python3.10/dist-packages (from pyautogui) (0.1.3)\n",
      "Requirement already satisfied: python3-Xlib in /usr/local/lib/python3.10/dist-packages (from pyautogui) (0.15)\n",
      "Requirement already satisfied: PyTweening>=1.0.1 in /usr/local/lib/python3.10/dist-packages (from pyautogui) (1.0.4)\n",
      "Requirement already satisfied: pymsgbox in /usr/local/lib/python3.10/dist-packages (from pyautogui) (1.0.9)\n",
      "Requirement already satisfied: pyrect in /usr/local/lib/python3.10/dist-packages (from pygetwindow>=0.0.5->pyautogui) (0.2.0)\n",
      "Requirement already satisfied: pyperclip in /usr/local/lib/python3.10/dist-packages (from mouseinfo->pyautogui) (1.8.2)\n"
     ]
    }
   ],
   "source": [
    "!pip install pyautogui"
   ]
  },
  {
   "cell_type": "code",
   "execution_count": 20,
   "id": "690b85d7",
   "metadata": {},
   "outputs": [
    {
     "name": "stdout",
     "output_type": "stream",
     "text": [
      "Point(x=722, y=560)\n"
     ]
    }
   ],
   "source": [
    "time.sleep(5)\n",
    "print(pyautogui.position())"
   ]
  },
  {
   "cell_type": "code",
   "execution_count": null,
   "id": "fe999fff",
   "metadata": {},
   "outputs": [],
   "source": []
  }
 ],
 "metadata": {
  "kernelspec": {
   "display_name": "Python 3 (ipykernel)",
   "language": "python",
   "name": "python3"
  },
  "language_info": {
   "codemirror_mode": {
    "name": "ipython",
    "version": 3
   },
   "file_extension": ".py",
   "mimetype": "text/x-python",
   "name": "python",
   "nbconvert_exporter": "python",
   "pygments_lexer": "ipython3",
   "version": "3.10.6"
  }
 },
 "nbformat": 4,
 "nbformat_minor": 5
}
